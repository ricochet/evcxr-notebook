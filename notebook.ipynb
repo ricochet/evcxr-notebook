{
 "cells": [
  {
   "cell_type": "code",
   "execution_count": 2,
   "source": [
    "println!(\"Hello World!\");"
   ],
   "outputs": [
    {
     "output_type": "stream",
     "name": "stdout",
     "text": [
      "Hello World!\n"
     ]
    }
   ],
   "metadata": {}
  }
 ],
 "metadata": {
  "orig_nbformat": 4,
  "language_info": {
   "name": "Rust",
   "version": "",
   "mimetype": "text/rust",
   "file_extension": ".rs",
   "pygment_lexer": "rust",
   "codemirror_mode": "rust"
  },
  "kernelspec": {
   "name": "rust",
   "display_name": "Rust",
   "language": "rust"
  },
  "interpreter": {
   "hash": "949777d72b0d2535278d3dc13498b2535136f6dfe0678499012e853ee9abcab1"
  }
 },
 "nbformat": 4,
 "nbformat_minor": 2
}